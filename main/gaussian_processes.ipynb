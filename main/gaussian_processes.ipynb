{
 "cells": [
  {
   "cell_type": "markdown",
   "id": "87d0bf6a",
   "metadata": {},
   "source": [
    "### Example of fitting a Gaussian process regression"
   ]
  },
  {
   "cell_type": "code",
   "execution_count": 4,
   "id": "ef9c78b8",
   "metadata": {},
   "outputs": [
    {
     "ename": "ModuleNotFoundError",
     "evalue": "No module named 'gpflow'",
     "output_type": "error",
     "traceback": [
      "\u001b[0;31m---------------------------------------------------------------------------\u001b[0m",
      "\u001b[0;31mModuleNotFoundError\u001b[0m                       Traceback (most recent call last)",
      "\u001b[0;32m<ipython-input-4-d67f7a29c5b5>\u001b[0m in \u001b[0;36m<module>\u001b[0;34m\u001b[0m\n\u001b[1;32m     19\u001b[0m \u001b[0;32mimport\u001b[0m \u001b[0mtensorflow\u001b[0m \u001b[0;32mas\u001b[0m \u001b[0mtf\u001b[0m\u001b[0;34m\u001b[0m\u001b[0;34m\u001b[0m\u001b[0m\n\u001b[1;32m     20\u001b[0m \u001b[0;32mfrom\u001b[0m \u001b[0mtensorflow\u001b[0m\u001b[0;34m.\u001b[0m\u001b[0mkeras\u001b[0m \u001b[0;32mimport\u001b[0m \u001b[0mlayers\u001b[0m\u001b[0;34m\u001b[0m\u001b[0;34m\u001b[0m\u001b[0m\n\u001b[0;32m---> 21\u001b[0;31m \u001b[0;32mimport\u001b[0m \u001b[0mgpflow\u001b[0m\u001b[0;34m\u001b[0m\u001b[0;34m\u001b[0m\u001b[0m\n\u001b[0m",
      "\u001b[0;31mModuleNotFoundError\u001b[0m: No module named 'gpflow'"
     ]
    }
   ],
   "source": [
    "import tensorflow as tf\n",
    "from sklearn.model_selection import train_test_split\n",
    "import matplotlib.pyplot as plt\n",
    "plt.style.use('fivethirtyeight')\n",
    "from matplotlib import rc\n",
    "rc('text', usetex=False)\n",
    "import seaborn as sns\n",
    "import pandas as pd\n",
    "import numpy as np\n",
    "import sklearn\n",
    "#!pip install shap\n",
    "import shap\n",
    "from sklearn.preprocessing import MinMaxScaler\n",
    "#!pip uninstall keras-nightly\n",
    "from tensorflow import keras\n",
    "import re\n",
    "from bayes_opt import BayesianOptimization\n",
    "import pickle\n",
    "import tensorflow as tf\n",
    "from tensorflow.keras import layers\n",
    "import gpflow"
   ]
  },
  {
   "cell_type": "code",
   "execution_count": 2,
   "id": "4f8a3739",
   "metadata": {},
   "outputs": [
    {
     "ename": "ModuleNotFoundError",
     "evalue": "No module named 'gpflow'",
     "output_type": "error",
     "traceback": [
      "\u001b[0;31m---------------------------------------------------------------------------\u001b[0m",
      "\u001b[0;31mModuleNotFoundError\u001b[0m                       Traceback (most recent call last)",
      "\u001b[0;32m<ipython-input-2-855e16e4e8fc>\u001b[0m in \u001b[0;36m<module>\u001b[0;34m\u001b[0m\n\u001b[0;32m----> 1\u001b[0;31m \u001b[0;32mimport\u001b[0m \u001b[0mgpflow\u001b[0m\u001b[0;34m\u001b[0m\u001b[0;34m\u001b[0m\u001b[0m\n\u001b[0m\u001b[1;32m      2\u001b[0m \u001b[0;32mfrom\u001b[0m \u001b[0mgpflow\u001b[0m\u001b[0;34m.\u001b[0m\u001b[0mutilities\u001b[0m \u001b[0;32mimport\u001b[0m \u001b[0mpositive\u001b[0m\u001b[0;34m,\u001b[0m \u001b[0mprint_summary\u001b[0m\u001b[0;34m\u001b[0m\u001b[0;34m\u001b[0m\u001b[0m\n\u001b[1;32m      3\u001b[0m \u001b[0;34m\u001b[0m\u001b[0m\n\u001b[1;32m      4\u001b[0m \u001b[0mplt\u001b[0m\u001b[0;34m.\u001b[0m\u001b[0mstyle\u001b[0m\u001b[0;34m.\u001b[0m\u001b[0muse\u001b[0m\u001b[0;34m(\u001b[0m\u001b[0;34m\"ggplot\"\u001b[0m\u001b[0;34m)\u001b[0m\u001b[0;34m\u001b[0m\u001b[0;34m\u001b[0m\u001b[0m\n\u001b[1;32m      5\u001b[0m \u001b[0mget_ipython\u001b[0m\u001b[0;34m(\u001b[0m\u001b[0;34m)\u001b[0m\u001b[0;34m.\u001b[0m\u001b[0mrun_line_magic\u001b[0m\u001b[0;34m(\u001b[0m\u001b[0;34m'matplotlib'\u001b[0m\u001b[0;34m,\u001b[0m \u001b[0;34m'inline'\u001b[0m\u001b[0;34m)\u001b[0m\u001b[0;34m\u001b[0m\u001b[0;34m\u001b[0m\u001b[0m\n",
      "\u001b[0;31mModuleNotFoundError\u001b[0m: No module named 'gpflow'"
     ]
    }
   ],
   "source": [
    "import gpflow\n",
    "from gpflow.utilities import positive, print_summary\n",
    "\n",
    "plt.style.use(\"ggplot\")\n",
    "%matplotlib inline"
   ]
  },
  {
   "cell_type": "code",
   "execution_count": 3,
   "id": "1c6c9b38",
   "metadata": {},
   "outputs": [],
   "source": [
    "from sklearn.linear_model import LinearRegression"
   ]
  },
  {
   "cell_type": "code",
   "execution_count": 4,
   "id": "b2d6a373",
   "metadata": {},
   "outputs": [],
   "source": [
    "def plot_loss(history):\n",
    "    plt.plot(history.history['loss'], label='loss')\n",
    "    plt.plot(history.history['val_loss'], label='val_loss')\n",
    "    #plt.ylim([0, 10])\n",
    "    plt.xlabel('Epoch')\n",
    "    plt.ylabel('Error [MPG]')\n",
    "    plt.legend()\n",
    "    plt.grid(True)"
   ]
  },
  {
   "cell_type": "code",
   "execution_count": 5,
   "id": "c38cf8e9",
   "metadata": {},
   "outputs": [],
   "source": [
    "# Moved all helper functions (such as plot functions) to utils/utils.py\n",
    "# Here we import them\n",
    "from utils.utils import (R_squared, plot_2_metric_mean)"
   ]
  },
  {
   "cell_type": "code",
   "execution_count": 6,
   "id": "b5b8a640",
   "metadata": {},
   "outputs": [],
   "source": [
    "# Moved all model functions to utils/model.py\n",
    "from utils.model import (my_model0, my_model)"
   ]
  },
  {
   "cell_type": "markdown",
   "id": "9989d17a",
   "metadata": {},
   "source": [
    "### Load the data from csv file"
   ]
  },
  {
   "cell_type": "code",
   "execution_count": 7,
   "id": "2455c371",
   "metadata": {},
   "outputs": [],
   "source": [
    "df = pd.read_csv('data/v27.csv')"
   ]
  },
  {
   "cell_type": "code",
   "execution_count": 8,
   "id": "a6d21ef9",
   "metadata": {},
   "outputs": [],
   "source": [
    "X = df[['int_drought',\n",
    "       'int_earthquake', 'int_extreme_temp',\n",
    "       'int_flood', 'int_landslide',\n",
    "       'int_tropical', 'int_unknown_storm', 'int_conv_storm',\n",
    "        # background variables\n",
    "        'mm_fault_density', 'mm_slope',\n",
    "          'mm_road_density',\n",
    "        # vulnerability variables\n",
    "        'multi_phdi', 'multi_ppp','single_phdi', 'single_ppp']]\n",
    "y = df['ln10_Total_Damage']"
   ]
  },
  {
   "cell_type": "code",
   "execution_count": 9,
   "id": "97535424",
   "metadata": {},
   "outputs": [],
   "source": [
    "#split the data 80% training and 20% testin\n",
    "X_train, X_test, y_train, y_test = train_test_split(X, y,\n",
    "                                                    test_size=0.2, random_state = 4)"
   ]
  },
  {
   "cell_type": "code",
   "execution_count": 10,
   "id": "b9b26ebc",
   "metadata": {},
   "outputs": [
    {
     "data": {
      "text/plain": [
       "Index(['int_drought', 'int_earthquake', 'int_extreme_temp', 'int_flood',\n",
       "       'int_landslide', 'int_tropical', 'int_unknown_storm', 'int_conv_storm',\n",
       "       'mm_fault_density', 'mm_slope', 'mm_road_density', 'multi_phdi',\n",
       "       'multi_ppp', 'single_phdi', 'single_ppp'],\n",
       "      dtype='object')"
      ]
     },
     "execution_count": 10,
     "metadata": {},
     "output_type": "execute_result"
    }
   ],
   "source": [
    "X_train.columns"
   ]
  },
  {
   "cell_type": "code",
   "execution_count": 11,
   "id": "199a26e0",
   "metadata": {},
   "outputs": [],
   "source": [
    "X_train = X_train.to_numpy()\n",
    "y_train = y_train.to_numpy().reshape(-1,1)"
   ]
  },
  {
   "cell_type": "markdown",
   "id": "217fee91",
   "metadata": {},
   "source": [
    "### Define and fit Gaussian process regression"
   ]
  },
  {
   "cell_type": "code",
   "execution_count": 13,
   "id": "7302fb78",
   "metadata": {},
   "outputs": [],
   "source": [
    "##k1 = Brownian()\n",
    "##k2 = gpflow.kernels.Constant()\n",
    "k0 = gpflow.kernels.RBF(active_dims=[0])\n",
    "k1 = gpflow.kernels.RBF(active_dims=[1])\n",
    "k2 = gpflow.kernels.RBF(active_dims=[2])\n",
    "k3 = gpflow.kernels.RBF(active_dims=[3])\n",
    "k4 = gpflow.kernels.RBF(active_dims=[4])\n",
    "k5 = gpflow.kernels.RBF(active_dims=[5])\n",
    "k6 = gpflow.kernels.RBF(active_dims=[6])\n",
    "k7 = gpflow.kernels.RBF(active_dims=[7])\n",
    "k8 = gpflow.kernels.RBF(active_dims=[8])\n",
    "k9 = gpflow.kernels.RBF(active_dims=[9])\n",
    "k10 = gpflow.kernels.RBF(active_dims=[10])\n",
    "k11 = gpflow.kernels.RBF(active_dims=[11])\n",
    "k12 = gpflow.kernels.RBF(active_dims=[12])\n",
    "k13 = gpflow.kernels.RBF(active_dims=[13])\n",
    "k14 = gpflow.kernels.RBF(active_dims=[14])\n",
    "\n",
    "#k = k0+k1+k2+k3+k4+k5+k6+k7+k8+k9+k10+k11+k12+k13+k14\n",
    "k = k0*k1*k2*k3*k4*k5*k6*k7*k8*k9*k10*k11*k12*k13*k14"
   ]
  },
  {
   "cell_type": "code",
   "execution_count": 14,
   "id": "4209f043",
   "metadata": {},
   "outputs": [],
   "source": [
    "# # Equivalent to Bayesian linear regression\n",
    "# k0 = gpflow.kernels.Linear(active_dims=[0])+gpflow.kernels.Bias(active_dims=[0])\n",
    "# k1 = gpflow.kernels.Linear(active_dims=[1])+gpflow.kernels.Bias(active_dims=[1])\n",
    "# k2 = gpflow.kernels.Linear(active_dims=[2])+gpflow.kernels.Bias(active_dims=[2])\n",
    "# k3 = gpflow.kernels.Linear(active_dims=[3])+gpflow.kernels.Bias(active_dims=[3])\n",
    "# k4 = gpflow.kernels.Linear(active_dims=[4])+gpflow.kernels.Bias(active_dims=[4])\n",
    "# k5 = gpflow.kernels.Linear(active_dims=[5])+gpflow.kernels.Bias(active_dims=[5])\n",
    "# k6 = gpflow.kernels.Linear(active_dims=[6])+gpflow.kernels.Bias(active_dims=[6])\n",
    "# k7 = gpflow.kernels.Linear(active_dims=[7])+gpflow.kernels.Bias(active_dims=[7])\n",
    "# k8 = gpflow.kernels.Linear(active_dims=[8])+gpflow.kernels.Bias(active_dims=[8])\n",
    "# k9 = gpflow.kernels.Linear(active_dims=[9])+gpflow.kernels.Bias(active_dims=[9])\n",
    "# k10 = gpflow.kernels.Linear(active_dims=[10])+gpflow.kernels.Bias(active_dims=[10])\n",
    "# k11 = gpflow.kernels.Linear(active_dims=[11])+gpflow.kernels.Bias(active_dims=[11])\n",
    "# k12 = gpflow.kernels.Linear(active_dims=[12])+gpflow.kernels.Bias(active_dims=[12])\n",
    "# k13 = gpflow.kernels.Linear(active_dims=[13])+gpflow.kernels.Bias(active_dims=[13])\n",
    "# k14 = gpflow.kernels.Linear(active_dims=[14])+gpflow.kernels.Bias(active_dims=[14])\n",
    "\n",
    "# k = k0+k1+k2+k3+k4+k5+k6+k7+k8+k9+k10+k11+k12+k13+k14"
   ]
  },
  {
   "cell_type": "markdown",
   "id": "adaa0fe6",
   "metadata": {},
   "source": [
    "### Fit Gaussian processes regression; legnthscale parmeter (in this case) determins importance of a certain dimension (certain deature)"
   ]
  },
  {
   "cell_type": "markdown",
   "id": "e83efc1d",
   "metadata": {},
   "source": [
    "### Check which variables correspond to each dimension and see which are identified as important (the smaller the lengthscale, the more iportant it is)"
   ]
  },
  {
   "cell_type": "code",
   "execution_count": 15,
   "id": "fe0fa014",
   "metadata": {
    "scrolled": true
   },
   "outputs": [
    {
     "data": {
      "text/html": [
       "<table>\n",
       "<thead>\n",
       "<tr><th>name                               </th><th>class    </th><th>transform       </th><th>prior  </th><th>trainable  </th><th>shape  </th><th>dtype  </th><th style=\"text-align: right;\">   value</th></tr>\n",
       "</thead>\n",
       "<tbody>\n",
       "<tr><td>GPR.kernel.kernels[0].variance     </td><td>Parameter</td><td>Softplus        </td><td>       </td><td>True       </td><td>()     </td><td>float64</td><td style=\"text-align: right;\"> 1.20362</td></tr>\n",
       "<tr><td>GPR.kernel.kernels[0].lengthscales </td><td>Parameter</td><td>Softplus        </td><td>       </td><td>True       </td><td>()     </td><td>float64</td><td style=\"text-align: right;\"> 2.33848</td></tr>\n",
       "<tr><td>GPR.kernel.kernels[1].variance     </td><td>Parameter</td><td>Softplus        </td><td>       </td><td>True       </td><td>()     </td><td>float64</td><td style=\"text-align: right;\"> 1.20362</td></tr>\n",
       "<tr><td>GPR.kernel.kernels[1].lengthscales </td><td>Parameter</td><td>Softplus        </td><td>       </td><td>True       </td><td>()     </td><td>float64</td><td style=\"text-align: right;\"> 2.97506</td></tr>\n",
       "<tr><td>GPR.kernel.kernels[2].variance     </td><td>Parameter</td><td>Softplus        </td><td>       </td><td>True       </td><td>()     </td><td>float64</td><td style=\"text-align: right;\"> 1.20362</td></tr>\n",
       "<tr><td>GPR.kernel.kernels[2].lengthscales </td><td>Parameter</td><td>Softplus        </td><td>       </td><td>True       </td><td>()     </td><td>float64</td><td style=\"text-align: right;\"> 1.18159</td></tr>\n",
       "<tr><td>GPR.kernel.kernels[3].variance     </td><td>Parameter</td><td>Softplus        </td><td>       </td><td>True       </td><td>()     </td><td>float64</td><td style=\"text-align: right;\"> 1.20362</td></tr>\n",
       "<tr><td>GPR.kernel.kernels[3].lengthscales </td><td>Parameter</td><td>Softplus        </td><td>       </td><td>True       </td><td>()     </td><td>float64</td><td style=\"text-align: right;\">50.9183 </td></tr>\n",
       "<tr><td>GPR.kernel.kernels[4].variance     </td><td>Parameter</td><td>Softplus        </td><td>       </td><td>True       </td><td>()     </td><td>float64</td><td style=\"text-align: right;\"> 1.20362</td></tr>\n",
       "<tr><td>GPR.kernel.kernels[4].lengthscales </td><td>Parameter</td><td>Softplus        </td><td>       </td><td>True       </td><td>()     </td><td>float64</td><td style=\"text-align: right;\">48.0373 </td></tr>\n",
       "<tr><td>GPR.kernel.kernels[5].variance     </td><td>Parameter</td><td>Softplus        </td><td>       </td><td>True       </td><td>()     </td><td>float64</td><td style=\"text-align: right;\"> 1.20362</td></tr>\n",
       "<tr><td>GPR.kernel.kernels[5].lengthscales </td><td>Parameter</td><td>Softplus        </td><td>       </td><td>True       </td><td>()     </td><td>float64</td><td style=\"text-align: right;\">10.879  </td></tr>\n",
       "<tr><td>GPR.kernel.kernels[6].variance     </td><td>Parameter</td><td>Softplus        </td><td>       </td><td>True       </td><td>()     </td><td>float64</td><td style=\"text-align: right;\"> 1.20362</td></tr>\n",
       "<tr><td>GPR.kernel.kernels[6].lengthscales </td><td>Parameter</td><td>Softplus        </td><td>       </td><td>True       </td><td>()     </td><td>float64</td><td style=\"text-align: right;\">65.9467 </td></tr>\n",
       "<tr><td>GPR.kernel.kernels[7].variance     </td><td>Parameter</td><td>Softplus        </td><td>       </td><td>True       </td><td>()     </td><td>float64</td><td style=\"text-align: right;\"> 1.20362</td></tr>\n",
       "<tr><td>GPR.kernel.kernels[7].lengthscales </td><td>Parameter</td><td>Softplus        </td><td>       </td><td>True       </td><td>()     </td><td>float64</td><td style=\"text-align: right;\">46.8721 </td></tr>\n",
       "<tr><td>GPR.kernel.kernels[8].variance     </td><td>Parameter</td><td>Softplus        </td><td>       </td><td>True       </td><td>()     </td><td>float64</td><td style=\"text-align: right;\"> 1.20362</td></tr>\n",
       "<tr><td>GPR.kernel.kernels[8].lengthscales </td><td>Parameter</td><td>Softplus        </td><td>       </td><td>True       </td><td>()     </td><td>float64</td><td style=\"text-align: right;\"> 0.84968</td></tr>\n",
       "<tr><td>GPR.kernel.kernels[9].variance     </td><td>Parameter</td><td>Softplus        </td><td>       </td><td>True       </td><td>()     </td><td>float64</td><td style=\"text-align: right;\"> 1.20362</td></tr>\n",
       "<tr><td>GPR.kernel.kernels[9].lengthscales </td><td>Parameter</td><td>Softplus        </td><td>       </td><td>True       </td><td>()     </td><td>float64</td><td style=\"text-align: right;\">12.7612 </td></tr>\n",
       "<tr><td>GPR.kernel.kernels[10].variance    </td><td>Parameter</td><td>Softplus        </td><td>       </td><td>True       </td><td>()     </td><td>float64</td><td style=\"text-align: right;\"> 1.20362</td></tr>\n",
       "<tr><td>GPR.kernel.kernels[10].lengthscales</td><td>Parameter</td><td>Softplus        </td><td>       </td><td>True       </td><td>()     </td><td>float64</td><td style=\"text-align: right;\"> 6.35492</td></tr>\n",
       "<tr><td>GPR.kernel.kernels[11].variance    </td><td>Parameter</td><td>Softplus        </td><td>       </td><td>True       </td><td>()     </td><td>float64</td><td style=\"text-align: right;\"> 1.20362</td></tr>\n",
       "<tr><td>GPR.kernel.kernels[11].lengthscales</td><td>Parameter</td><td>Softplus        </td><td>       </td><td>True       </td><td>()     </td><td>float64</td><td style=\"text-align: right;\"> 0.86324</td></tr>\n",
       "<tr><td>GPR.kernel.kernels[12].variance    </td><td>Parameter</td><td>Softplus        </td><td>       </td><td>True       </td><td>()     </td><td>float64</td><td style=\"text-align: right;\"> 1.20362</td></tr>\n",
       "<tr><td>GPR.kernel.kernels[12].lengthscales</td><td>Parameter</td><td>Softplus        </td><td>       </td><td>True       </td><td>()     </td><td>float64</td><td style=\"text-align: right;\"> 0.88977</td></tr>\n",
       "<tr><td>GPR.kernel.kernels[13].variance    </td><td>Parameter</td><td>Softplus        </td><td>       </td><td>True       </td><td>()     </td><td>float64</td><td style=\"text-align: right;\"> 1.20362</td></tr>\n",
       "<tr><td>GPR.kernel.kernels[13].lengthscales</td><td>Parameter</td><td>Softplus        </td><td>       </td><td>True       </td><td>()     </td><td>float64</td><td style=\"text-align: right;\"> 1.31119</td></tr>\n",
       "<tr><td>GPR.kernel.kernels[14].variance    </td><td>Parameter</td><td>Softplus        </td><td>       </td><td>True       </td><td>()     </td><td>float64</td><td style=\"text-align: right;\"> 1.20362</td></tr>\n",
       "<tr><td>GPR.kernel.kernels[14].lengthscales</td><td>Parameter</td><td>Softplus        </td><td>       </td><td>True       </td><td>()     </td><td>float64</td><td style=\"text-align: right;\"> 0.66855</td></tr>\n",
       "<tr><td>GPR.likelihood.variance            </td><td>Parameter</td><td>Softplus + Shift</td><td>       </td><td>True       </td><td>()     </td><td>float64</td><td style=\"text-align: right;\"> 0.99772</td></tr>\n",
       "</tbody>\n",
       "</table>"
      ],
      "text/plain": [
       "<IPython.core.display.HTML object>"
      ]
     },
     "metadata": {},
     "output_type": "display_data"
    }
   ],
   "source": [
    "m = gpflow.models.GPR((X_train, y_train), kernel=k)\n",
    "# m.likelihood.variance.assign(1e-6)\n",
    "\n",
    "opt = gpflow.optimizers.Scipy()\n",
    "opt.minimize(m.training_loss, variables=m.trainable_variables)\n",
    "print_summary(m, fmt=\"notebook\")"
   ]
  },
  {
   "cell_type": "code",
   "execution_count": 16,
   "id": "16e83f63",
   "metadata": {},
   "outputs": [],
   "source": [
    "#xx = np.linspace(0, 1.1, 100).reshape(100, 1)\n",
    "mean, var = m.predict_y(X_test.to_numpy())"
   ]
  },
  {
   "cell_type": "code",
   "execution_count": 17,
   "id": "455b7ad0",
   "metadata": {},
   "outputs": [
    {
     "data": {
      "text/plain": [
       "[<matplotlib.lines.Line2D at 0x2973937c0>]"
      ]
     },
     "execution_count": 17,
     "metadata": {},
     "output_type": "execute_result"
    },
    {
     "data": {
      "image/png": "[encoded data removed]",
      "text/plain": [
       "<Figure size 640x480 with 1 Axes>"
      ]
     },
     "metadata": {},
     "output_type": "display_data"
    }
   ],
   "source": [
    "plt.plot(mean, \"kx\", mew=2)\n",
    "plt.plot(y_test.to_numpy().reshape(-1,1), \"rx\", mew=2)"
   ]
  },
  {
   "cell_type": "code",
   "execution_count": 18,
   "id": "ae7ae179",
   "metadata": {},
   "outputs": [
    {
     "data": {
      "text/plain": [
       "0.9297120593174767"
      ]
     },
     "execution_count": 18,
     "metadata": {},
     "output_type": "execute_result"
    }
   ],
   "source": [
    "np.sum((mean-y_test.to_numpy().reshape(-1,1))**2)/y_test.to_numpy().shape[0]"
   ]
  },
  {
   "cell_type": "code",
   "execution_count": 19,
   "id": "a3ee439e",
   "metadata": {},
   "outputs": [
    {
     "data": {
      "text/plain": [
       "0.7510586978098621"
      ]
     },
     "execution_count": 19,
     "metadata": {},
     "output_type": "execute_result"
    }
   ],
   "source": [
    "np.sum(np.abs(mean-y_test.to_numpy().reshape(-1,1)))/y_test.to_numpy().shape[0]"
   ]
  },
  {
   "cell_type": "code",
   "execution_count": 3,
   "id": "39869ae6",
   "metadata": {},
   "outputs": [
    {
     "data": {
      "text/plain": [
       "5.011872336272722"
      ]
     },
     "execution_count": 3,
     "metadata": {},
     "output_type": "execute_result"
    }
   ],
   "source": [
    "10**0.7"
   ]
  },
  {
   "cell_type": "code",
   "execution_count": null,
   "id": "0425d142",
   "metadata": {},
   "outputs": [],
   "source": [
    "e = shap.KernelExplainer(m.predict_y, X_train)\n",
    "shap_values = e.shap_values(X_test)"
   ]
  },
  {
   "cell_type": "code",
   "execution_count": null,
   "id": "cc335fb0",
   "metadata": {},
   "outputs": [],
   "source": [
    "shap.initjs()\n",
    "# visualize the first prediction's explanation with a force plot\n",
    "shap.force_plot(e.expected_value[0], shap_values[0][0], features = features)"
   ]
  },
  {
   "cell_type": "code",
   "execution_count": null,
   "id": "56d4d4f1",
   "metadata": {},
   "outputs": [],
   "source": []
  },
  {
   "cell_type": "code",
   "execution_count": null,
   "id": "aebfd1db",
   "metadata": {},
   "outputs": [],
   "source": []
  }
 ],
 "metadata": {
  "kernelspec": {
   "display_name": "Python 3",
   "language": "python",
   "name": "python3"
  },
  "language_info": {
   "codemirror_mode": {
    "name": "ipython",
    "version": 3
   },
   "file_extension": ".py",
   "mimetype": "text/x-python",
   "name": "python",
   "nbconvert_exporter": "python",
   "pygments_lexer": "ipython3",
   "version": "3.6.13"
  }
 },
 "nbformat": 4,
 "nbformat_minor": 5
}
