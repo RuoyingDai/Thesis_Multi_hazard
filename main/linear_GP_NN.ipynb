{
 "cells": [
  {
   "cell_type": "code",
   "execution_count": null,
   "id": "d84188cd",
   "metadata": {},
   "outputs": [],
   "source": [
    "# Note on nov 23rd\n",
    "# I somehow cannot import all tensorflow packages in jupyter but I manage to do it on my spyder editor.\n",
    "# The previous y (absolute damage loss) has been changed into new y (relative damage loss to GDP),\n",
    "# thus this is a new dataset!\n",
    "\n",
    "# Till now, the performance according to MSE and MAE is best NN so far > GP > Linear regression as we expected\n",
    "# I am still waiting for the training of NN for shapley value and coefficient comparison."
   ]
  },
  {
   "cell_type": "code",
   "execution_count": 5,
   "id": "66d38873",
   "metadata": {},
   "outputs": [
    {
     "name": "stdout",
     "output_type": "stream",
     "text": [
      "packages imported.\n"
     ]
    }
   ],
   "source": [
    "########### Import packages \n",
    "import tensorflow as tf\n",
    "from tensorflow.keras import layers\n",
    "from tensorflow import keras\n",
    "from sklearn.model_selection import train_test_split\n",
    "import matplotlib.pyplot as plt\n",
    "plt.style.use('fivethirtyeight')\n",
    "from matplotlib import rc\n",
    "rc('text', usetex=False)\n",
    "import seaborn as sns\n",
    "import pandas as pd\n",
    "import numpy as np\n",
    "import sklearn\n",
    "#!pip install shap\n",
    "import shap\n",
    "#from sklearn.preprocessing import MinMaxScaler\n",
    "#!pip uninstall keras-nightly\n",
    "import re\n",
    "#from bayes_opt import BayesianOptimization\n",
    "import pickle\n",
    "from sklearn.linear_model import LinearRegression\n",
    "print('packages imported.')"
   ]
  },
  {
   "cell_type": "code",
   "execution_count": 12,
   "id": "d32d93a8",
   "metadata": {},
   "outputs": [
    {
     "name": "stdout",
     "output_type": "stream",
     "text": [
      "functions loaded.\n"
     ]
    }
   ],
   "source": [
    "########### Functions\n",
    "def R_squared(x, y, name = 'R_squared'):    \n",
    "    mx = tf.math.reduce_mean(x)\n",
    "    my = tf.math.reduce_mean(y)\n",
    "    xm, ym = x-mx, y-my\n",
    "    r_num = tf.math.reduce_mean(tf.multiply(xm,ym))        \n",
    "    r_den = tf.math.reduce_std(xm) * tf.math.reduce_std(ym)\n",
    "    return r_num / r_den\n",
    "def my_nn(lr, neuron_num, l1, l2, verbose, epoch):\n",
    "    tf.random.set_seed(42)\n",
    "    model_4 = tf.keras.Sequential([\n",
    "    tf.keras.layers.Dense(10),\n",
    "    tf.keras.layers.Dense(100, \n",
    "                          activation='LeakyReLU',\n",
    "    activity_regularizer = tf.keras.regularizers.L1L2(l1, l2)),\n",
    "    tf.keras.layers.Dropout(0.4),\n",
    "    tf.keras.layers.Dense(10, activation = 'tanh'),\n",
    "    tf.keras.layers.Dense(5, activation = 'sigmoid'),\n",
    "    tf.keras.layers.Dropout(0.3),\n",
    "    tf.keras.layers.Dense(neuron_num, activation='LeakyReLU',\n",
    "    activity_regularizer = tf.keras.regularizers.L1L2(l1, l2)),\n",
    "    ])\n",
    "    #model_4.compile(loss=tf.keras.losses.mae,\n",
    "    #optimizer=tf.keras.optimizers.Adam(),\n",
    "    #metrics=['mae'])\n",
    "    \n",
    "    model_4.compile(loss=tf.keras.losses.mse,\n",
    "                    #optimizer = tf.keras.optimizers.experimental.Adagrad(learning_rate = 0.001),\n",
    "                    #optimizer=tf.keras.optimizers.SGD(learning_rate=0.5),\n",
    "                    optimizer=tf.keras.optimizers.Adam(learning_rate=lr),\n",
    "                    metrics = [R_squared])\n",
    "    \n",
    "    history4 = model_4.fit(\n",
    "        X_train,\n",
    "        y_train,\n",
    "        epochs=epoch,\n",
    "        # Suppress logging.\n",
    "        verbose=verbose,\n",
    "        # Calculate validation results on 20% of the training data.\n",
    "        validation_split = 0.2)\n",
    "    #plot_mse(history4)\n",
    "    string = \"lr{}_num{}_l1{}_l2{}\".format(lr, neuron_num, l1, l2)\n",
    "    string = string.replace('.', '-')\n",
    "    yhat4 = model_4.predict(X_test)\n",
    "    #plt.plot(y_test.to_numpy().reshape(-1,1), 'kx')\n",
    "    #plt.plot(yhat4, 'rx')\n",
    "    mae = tf.metrics.mean_absolute_error(y_true=y_test, y_pred=yhat4)\n",
    "    mse = tf.metrics.mean_squared_error(y_true = y_test, y_pred=yhat4)\n",
    "    print(string)\n",
    "    print('MAE: {}'.format( np.mean(mae)))\n",
    "    print('MSE: {}'.format( np.mean(mse)))\n",
    "    history4.history['test_mae'] = round(np.mean(mae),5)\n",
    "    history4.history['test_mse'] = round(np.mean(mse),5)\n",
    "    with open('nn_train_log/{}.pkl'.format(string), 'wb') as handle:\n",
    "        pickle.dump(history4.history, handle, protocol=pickle.HIGHEST_PROTOCOL)\n",
    "    return {'test_mse':np.mean(mse),\n",
    "            'hp':string}\n",
    "print('functions loaded.')"
   ]
  },
  {
   "cell_type": "code",
   "execution_count": 8,
   "id": "04d66928",
   "metadata": {},
   "outputs": [
    {
     "name": "stdout",
     "output_type": "stream",
     "text": [
      "data loaded.\n",
      "data splited.\n"
     ]
    }
   ],
   "source": [
    "########### Load data/ Train-test split\n",
    "df = pd.read_csv('data/v29.csv')\n",
    "\n",
    "X = df[['int_drought',\n",
    "       'int_earthquake', 'int_extreme_temp',\n",
    "       'int_flood', 'int_landslide',\n",
    "       'int_tropical', 'int_unknown_storm', 'int_conv_storm',\n",
    "        # background variables\n",
    "        #'mm_fault_density', 'mm_slope',\n",
    "         # 'mm_road_density',\n",
    "        # vulnerability variables\n",
    "        'multi_phdi', 'multi_ppp','single_phdi', 'single_ppp']]\n",
    "#y = df[['relative_loss']]\n",
    "y = df[['ln10_relative_loss']]\n",
    "print('data loaded.')\n",
    "#q = pd.qcut(df['relative_loss'], 10, labels=[int(i) for i in range(1, 11)])\n",
    "#scaler = MinMaxScaler()\n",
    "#scaler.fit(y)\n",
    "#X_train, X_test, y_train, y_test = train_test_split(X, q.astype(np.float64),\n",
    "#X_train, X_test, y_train, y_test = train_test_split(X, scaler.transform(y)*10,\n",
    "#X_train, X_test, y_train, y_test = train_test_split(X, scaler.transform(y)*10,\n",
    "X_train, X_test, y_train, y_test = train_test_split(X, y,\n",
    "                                                    test_size=0.2, random_state = 4)\n",
    "print('data splited.')\n",
    "data_train = X_train.copy()\n",
    "\n",
    "#data_train['y_train'] = y_train.reshape(-1,1)\n",
    "data_train['y_train'] = y_train.to_numpy().reshape(-1,1)\n",
    "# check data\n",
    "#sns.pairplot(data_train[data_train.columns.to_list()], diag_kind='kde')"
   ]
  },
  {
   "cell_type": "code",
   "execution_count": 11,
   "id": "6f50e522",
   "metadata": {},
   "outputs": [
    {
     "name": "stdout",
     "output_type": "stream",
     "text": [
      "linear regression on test data MAE:\n",
      "0.9138298862580184\n",
      "MSE:\n",
      "1.3210175538578557\n"
     ]
    },
    {
     "data": {
      "text/plain": [
       "[<matplotlib.lines.Line2D at 0x7ff35a318320>]"
      ]
     },
     "execution_count": 11,
     "metadata": {},
     "output_type": "execute_result"
    },
    {
     "data": {
      "image/png": "[encoded data removed]",
      "text/plain": [
       "<Figure size 432x288 with 1 Axes>"
      ]
     },
     "metadata": {},
     "output_type": "display_data"
    }
   ],
   "source": [
    "############ linear regression\n",
    "\n",
    "model = LinearRegression().fit(X_train, y_train)\n",
    "yhat = model.predict(X_test)\n",
    "mae = np.sum(np.abs(yhat-y_test.to_numpy().reshape(-1,1)))/y_test.to_numpy().shape[0]\n",
    "mse = np.sum((yhat-y_test.to_numpy().reshape(-1,1))**2)/y_test.to_numpy().shape[0]\n",
    "print('linear regression on test data MAE:')\n",
    "print(np.mean(mae))\n",
    "print('MSE:')\n",
    "print(np.mean(mse))\n",
    "#print(R_squared(y_test.to_numpy().reshape(-1,1), yhat))\n",
    "plt.plot(y_test.to_numpy().reshape(-1,1), 'kx')\n",
    "plt.plot(yhat, 'rx')"
   ]
  },
  {
   "cell_type": "code",
   "execution_count": 14,
   "id": "1ba27f77",
   "metadata": {},
   "outputs": [
    {
     "name": "stdout",
     "output_type": "stream",
     "text": [
      "\n",
      "\n",
      "Failed to import TensorFlow. Please note that TensorFlow is not installed by default when you install TensorFlow Probability. This is so that users can decide whether to install the GPU-enabled TensorFlow package. To use TensorFlow Probability, please install the most recent version of TensorFlow, by following instructions at https://tensorflow.org/install.\n",
      "\n",
      "\n"
     ]
    },
    {
     "ename": "ModuleNotFoundError",
     "evalue": "No module named 'tensorflow.compat'",
     "output_type": "error",
     "traceback": [
      "\u001b[0;31m---------------------------------------------------------------------------\u001b[0m",
      "\u001b[0;31mModuleNotFoundError\u001b[0m                       Traceback (most recent call last)",
      "\u001b[0;32m<ipython-input-14-76d9c9c32949>\u001b[0m in \u001b[0;36m<module>\u001b[0;34m\u001b[0m\n\u001b[1;32m      2\u001b[0m \u001b[0;31m#(Note that I take away 3 variables\u001b[0m\u001b[0;34m\u001b[0m\u001b[0;34m\u001b[0m\u001b[0;34m\u001b[0m\u001b[0m\n\u001b[1;32m      3\u001b[0m \u001b[0;31m# because my other supervisors think they are irrelevant)\u001b[0m\u001b[0;34m\u001b[0m\u001b[0;34m\u001b[0m\u001b[0;34m\u001b[0m\u001b[0m\n\u001b[0;32m----> 4\u001b[0;31m \u001b[0;32mimport\u001b[0m \u001b[0mgpflow\u001b[0m\u001b[0;34m\u001b[0m\u001b[0;34m\u001b[0m\u001b[0m\n\u001b[0m\u001b[1;32m      5\u001b[0m \u001b[0;32mfrom\u001b[0m \u001b[0mgpflow\u001b[0m\u001b[0;34m.\u001b[0m\u001b[0mutilities\u001b[0m \u001b[0;32mimport\u001b[0m \u001b[0mpositive\u001b[0m\u001b[0;34m,\u001b[0m \u001b[0mprint_summary\u001b[0m\u001b[0;34m\u001b[0m\u001b[0;34m\u001b[0m\u001b[0m\n\u001b[1;32m      6\u001b[0m \u001b[0;31m# Configure GP regression\u001b[0m\u001b[0;34m\u001b[0m\u001b[0;34m\u001b[0m\u001b[0;34m\u001b[0m\u001b[0m\n",
      "\u001b[0;32m~/opt/anaconda3/envs/tfenv/lib/python3.6/site-packages/gpflow/__init__.py\u001b[0m in \u001b[0;36m<module>\u001b[0;34m\u001b[0m\n\u001b[1;32m     15\u001b[0m \u001b[0;31m# flake8: noqa\u001b[0m\u001b[0;34m\u001b[0m\u001b[0;34m\u001b[0m\u001b[0;34m\u001b[0m\u001b[0m\n\u001b[1;32m     16\u001b[0m \u001b[0;34m\u001b[0m\u001b[0m\n\u001b[0;32m---> 17\u001b[0;31m from . import (\n\u001b[0m\u001b[1;32m     18\u001b[0m     \u001b[0mconditionals\u001b[0m\u001b[0;34m,\u001b[0m\u001b[0;34m\u001b[0m\u001b[0;34m\u001b[0m\u001b[0m\n\u001b[1;32m     19\u001b[0m     \u001b[0mconfig\u001b[0m\u001b[0;34m,\u001b[0m\u001b[0;34m\u001b[0m\u001b[0;34m\u001b[0m\u001b[0m\n",
      "\u001b[0;32m~/opt/anaconda3/envs/tfenv/lib/python3.6/site-packages/gpflow/conditionals/__init__.py\u001b[0m in \u001b[0;36m<module>\u001b[0;34m\u001b[0m\n\u001b[1;32m      1\u001b[0m \u001b[0;31m# noqa: F401\u001b[0m\u001b[0;34m\u001b[0m\u001b[0;34m\u001b[0m\u001b[0;34m\u001b[0m\u001b[0m\n\u001b[1;32m      2\u001b[0m \u001b[0;34m\u001b[0m\u001b[0m\n\u001b[0;32m----> 3\u001b[0;31m \u001b[0;32mfrom\u001b[0m \u001b[0;34m.\u001b[0m \u001b[0;32mimport\u001b[0m \u001b[0mconditionals\u001b[0m\u001b[0;34m,\u001b[0m \u001b[0mmultioutput\u001b[0m\u001b[0;34m,\u001b[0m \u001b[0msample_conditionals\u001b[0m\u001b[0;34m\u001b[0m\u001b[0;34m\u001b[0m\u001b[0m\n\u001b[0m\u001b[1;32m      4\u001b[0m \u001b[0;32mfrom\u001b[0m \u001b[0;34m.\u001b[0m\u001b[0mdispatch\u001b[0m \u001b[0;32mimport\u001b[0m \u001b[0mconditional\u001b[0m\u001b[0;34m,\u001b[0m \u001b[0msample_conditional\u001b[0m\u001b[0;34m\u001b[0m\u001b[0;34m\u001b[0m\u001b[0m\n\u001b[1;32m      5\u001b[0m \u001b[0;32mfrom\u001b[0m \u001b[0;34m.\u001b[0m\u001b[0muncertain_conditionals\u001b[0m \u001b[0;32mimport\u001b[0m \u001b[0muncertain_conditional\u001b[0m\u001b[0;34m\u001b[0m\u001b[0;34m\u001b[0m\u001b[0m\n",
      "\u001b[0;32m~/opt/anaconda3/envs/tfenv/lib/python3.6/site-packages/gpflow/conditionals/conditionals.py\u001b[0m in \u001b[0;36m<module>\u001b[0;34m\u001b[0m\n\u001b[1;32m     17\u001b[0m \u001b[0;32mimport\u001b[0m \u001b[0mtensorflow\u001b[0m \u001b[0;32mas\u001b[0m \u001b[0mtf\u001b[0m\u001b[0;34m\u001b[0m\u001b[0;34m\u001b[0m\u001b[0m\n\u001b[1;32m     18\u001b[0m \u001b[0;34m\u001b[0m\u001b[0m\n\u001b[0;32m---> 19\u001b[0;31m \u001b[0;32mfrom\u001b[0m \u001b[0;34m.\u001b[0m\u001b[0;34m.\u001b[0m\u001b[0mbase\u001b[0m \u001b[0;32mimport\u001b[0m \u001b[0mMeanAndVariance\u001b[0m\u001b[0;34m\u001b[0m\u001b[0;34m\u001b[0m\u001b[0m\n\u001b[0m\u001b[1;32m     20\u001b[0m \u001b[0;32mfrom\u001b[0m \u001b[0;34m.\u001b[0m\u001b[0;34m.\u001b[0m\u001b[0minducing_variables\u001b[0m \u001b[0;32mimport\u001b[0m \u001b[0mInducingVariables\u001b[0m\u001b[0;34m\u001b[0m\u001b[0;34m\u001b[0m\u001b[0m\n\u001b[1;32m     21\u001b[0m \u001b[0;32mfrom\u001b[0m \u001b[0;34m.\u001b[0m\u001b[0;34m.\u001b[0m\u001b[0mkernels\u001b[0m \u001b[0;32mimport\u001b[0m \u001b[0mKernel\u001b[0m\u001b[0;34m\u001b[0m\u001b[0;34m\u001b[0m\u001b[0m\n",
      "\u001b[0;32m~/opt/anaconda3/envs/tfenv/lib/python3.6/site-packages/gpflow/base.py\u001b[0m in \u001b[0;36m<module>\u001b[0;34m\u001b[0m\n\u001b[1;32m     21\u001b[0m \u001b[0;32mfrom\u001b[0m \u001b[0mtyping_extensions\u001b[0m \u001b[0;32mimport\u001b[0m \u001b[0mFinal\u001b[0m\u001b[0;34m\u001b[0m\u001b[0;34m\u001b[0m\u001b[0m\n\u001b[1;32m     22\u001b[0m \u001b[0;34m\u001b[0m\u001b[0m\n\u001b[0;32m---> 23\u001b[0;31m \u001b[0;32mfrom\u001b[0m \u001b[0;34m.\u001b[0m\u001b[0mconfig\u001b[0m \u001b[0;32mimport\u001b[0m \u001b[0mdefault_float\u001b[0m\u001b[0;34m,\u001b[0m \u001b[0mdefault_summary_fmt\u001b[0m\u001b[0;34m\u001b[0m\u001b[0;34m\u001b[0m\u001b[0m\n\u001b[0m\u001b[1;32m     24\u001b[0m \u001b[0;34m\u001b[0m\u001b[0m\n\u001b[1;32m     25\u001b[0m \u001b[0;32mif\u001b[0m \u001b[0mTYPE_CHECKING\u001b[0m\u001b[0;34m:\u001b[0m\u001b[0;34m\u001b[0m\u001b[0;34m\u001b[0m\u001b[0m\n",
      "\u001b[0;32m~/opt/anaconda3/envs/tfenv/lib/python3.6/site-packages/gpflow/config/__init__.py\u001b[0m in \u001b[0;36m<module>\u001b[0;34m\u001b[0m\n\u001b[0;32m----> 1\u001b[0;31m \u001b[0;32mfrom\u001b[0m \u001b[0;34m.\u001b[0m\u001b[0m__config__\u001b[0m \u001b[0;32mimport\u001b[0m \u001b[0;34m*\u001b[0m\u001b[0;34m\u001b[0m\u001b[0;34m\u001b[0m\u001b[0m\n\u001b[0m\u001b[1;32m      2\u001b[0m \u001b[0;32mfrom\u001b[0m \u001b[0;34m.\u001b[0m\u001b[0m__config__\u001b[0m \u001b[0;32mimport\u001b[0m \u001b[0m__doc__\u001b[0m  \u001b[0;31m# needs explicit import\u001b[0m\u001b[0;34m\u001b[0m\u001b[0;34m\u001b[0m\u001b[0m\n\u001b[1;32m      3\u001b[0m \u001b[0;34m\u001b[0m\u001b[0m\n\u001b[1;32m      4\u001b[0m \u001b[0m__all__\u001b[0m \u001b[0;34m=\u001b[0m \u001b[0;34m[\u001b[0m\u001b[0mexport\u001b[0m \u001b[0;32mfor\u001b[0m \u001b[0mexport\u001b[0m \u001b[0;32min\u001b[0m \u001b[0mdir\u001b[0m\u001b[0;34m(\u001b[0m\u001b[0;34m)\u001b[0m\u001b[0;34m]\u001b[0m\u001b[0;34m\u001b[0m\u001b[0;34m\u001b[0m\u001b[0m\n",
      "\u001b[0;32m~/opt/anaconda3/envs/tfenv/lib/python3.6/site-packages/gpflow/config/__config__.py\u001b[0m in \u001b[0;36m<module>\u001b[0;34m\u001b[0m\n\u001b[1;32m    339\u001b[0m \u001b[0;34m\u001b[0m\u001b[0m\n\u001b[1;32m    340\u001b[0m \u001b[0;31m# Set global config.\u001b[0m\u001b[0;34m\u001b[0m\u001b[0;34m\u001b[0m\u001b[0;34m\u001b[0m\u001b[0m\n\u001b[0;32m--> 341\u001b[0;31m \u001b[0mset_config\u001b[0m\u001b[0;34m(\u001b[0m\u001b[0mConfig\u001b[0m\u001b[0;34m(\u001b[0m\u001b[0;34m)\u001b[0m\u001b[0;34m)\u001b[0m\u001b[0;34m\u001b[0m\u001b[0;34m\u001b[0m\u001b[0m\n\u001b[0m",
      "\u001b[0;32m<string>\u001b[0m in \u001b[0;36m__init__\u001b[0;34m(self, int, float, jitter, positive_bijector, positive_minimum, summary_fmt)\u001b[0m\n",
      "\u001b[0;32m~/opt/anaconda3/envs/tfenv/lib/python3.6/site-packages/gpflow/config/__config__.py\u001b[0m in \u001b[0;36m_default_positive_bijector_factory\u001b[0;34m()\u001b[0m\n\u001b[1;32m    137\u001b[0m \u001b[0;32mdef\u001b[0m \u001b[0m_default_positive_bijector_factory\u001b[0m\u001b[0;34m(\u001b[0m\u001b[0;34m)\u001b[0m \u001b[0;34m->\u001b[0m \u001b[0mstr\u001b[0m\u001b[0;34m:\u001b[0m\u001b[0;34m\u001b[0m\u001b[0;34m\u001b[0m\u001b[0m\n\u001b[1;32m    138\u001b[0m     \u001b[0mbijector_type\u001b[0m \u001b[0;34m=\u001b[0m \u001b[0m_default\u001b[0m\u001b[0;34m(\u001b[0m\u001b[0m_Values\u001b[0m\u001b[0;34m.\u001b[0m\u001b[0mPOSITIVE_BIJECTOR\u001b[0m\u001b[0;34m)\u001b[0m\u001b[0;34m\u001b[0m\u001b[0;34m\u001b[0m\u001b[0m\n\u001b[0;32m--> 139\u001b[0;31m     \u001b[0;32mif\u001b[0m \u001b[0mbijector_type\u001b[0m \u001b[0;32mnot\u001b[0m \u001b[0;32min\u001b[0m \u001b[0mpositive_bijector_type_map\u001b[0m\u001b[0;34m(\u001b[0m\u001b[0;34m)\u001b[0m\u001b[0;34m.\u001b[0m\u001b[0mkeys\u001b[0m\u001b[0;34m(\u001b[0m\u001b[0;34m)\u001b[0m\u001b[0;34m:\u001b[0m\u001b[0;34m\u001b[0m\u001b[0;34m\u001b[0m\u001b[0m\n\u001b[0m\u001b[1;32m    140\u001b[0m         raise TypeError(\n\u001b[1;32m    141\u001b[0m             \u001b[0;34m\"Config cannot set the passed value as a default positive bijector.\"\u001b[0m\u001b[0;34m\u001b[0m\u001b[0;34m\u001b[0m\u001b[0m\n",
      "\u001b[0;32m~/opt/anaconda3/envs/tfenv/lib/python3.6/site-packages/gpflow/config/__config__.py\u001b[0m in \u001b[0;36mpositive_bijector_type_map\u001b[0;34m()\u001b[0m\n\u001b[1;32m    321\u001b[0m \u001b[0;32mdef\u001b[0m \u001b[0mpositive_bijector_type_map\u001b[0m\u001b[0;34m(\u001b[0m\u001b[0;34m)\u001b[0m \u001b[0;34m->\u001b[0m \u001b[0mDict\u001b[0m\u001b[0;34m[\u001b[0m\u001b[0mstr\u001b[0m\u001b[0;34m,\u001b[0m \u001b[0mtype\u001b[0m\u001b[0;34m]\u001b[0m\u001b[0;34m:\u001b[0m\u001b[0;34m\u001b[0m\u001b[0;34m\u001b[0m\u001b[0m\n\u001b[1;32m    322\u001b[0m     return {\n\u001b[0;32m--> 323\u001b[0;31m         \u001b[0;34m\"exp\"\u001b[0m\u001b[0;34m:\u001b[0m \u001b[0mtfp\u001b[0m\u001b[0;34m.\u001b[0m\u001b[0mbijectors\u001b[0m\u001b[0;34m.\u001b[0m\u001b[0mExp\u001b[0m\u001b[0;34m,\u001b[0m\u001b[0;34m\u001b[0m\u001b[0;34m\u001b[0m\u001b[0m\n\u001b[0m\u001b[1;32m    324\u001b[0m         \u001b[0;34m\"softplus\"\u001b[0m\u001b[0;34m:\u001b[0m \u001b[0mtfp\u001b[0m\u001b[0;34m.\u001b[0m\u001b[0mbijectors\u001b[0m\u001b[0;34m.\u001b[0m\u001b[0mSoftplus\u001b[0m\u001b[0;34m,\u001b[0m\u001b[0;34m\u001b[0m\u001b[0;34m\u001b[0m\u001b[0m\n\u001b[1;32m    325\u001b[0m     }\n",
      "\u001b[0;32m~/opt/anaconda3/envs/tfenv/lib/python3.6/site-packages/tensorflow_probability/python/internal/lazy_loader.py\u001b[0m in \u001b[0;36m__getattr__\u001b[0;34m(self, item)\u001b[0m\n\u001b[1;32m     51\u001b[0m \u001b[0;34m\u001b[0m\u001b[0m\n\u001b[1;32m     52\u001b[0m   \u001b[0;32mdef\u001b[0m \u001b[0m__getattr__\u001b[0m\u001b[0;34m(\u001b[0m\u001b[0mself\u001b[0m\u001b[0;34m,\u001b[0m \u001b[0mitem\u001b[0m\u001b[0;34m)\u001b[0m\u001b[0;34m:\u001b[0m\u001b[0;34m\u001b[0m\u001b[0;34m\u001b[0m\u001b[0m\n\u001b[0;32m---> 53\u001b[0;31m     \u001b[0mmodule\u001b[0m \u001b[0;34m=\u001b[0m \u001b[0mself\u001b[0m\u001b[0;34m.\u001b[0m\u001b[0m_load\u001b[0m\u001b[0;34m(\u001b[0m\u001b[0;34m)\u001b[0m\u001b[0;34m\u001b[0m\u001b[0;34m\u001b[0m\u001b[0m\n\u001b[0m\u001b[1;32m     54\u001b[0m     \u001b[0;32mreturn\u001b[0m \u001b[0mgetattr\u001b[0m\u001b[0;34m(\u001b[0m\u001b[0mmodule\u001b[0m\u001b[0;34m,\u001b[0m \u001b[0mitem\u001b[0m\u001b[0;34m)\u001b[0m\u001b[0;34m\u001b[0m\u001b[0;34m\u001b[0m\u001b[0m\n\u001b[1;32m     55\u001b[0m \u001b[0;34m\u001b[0m\u001b[0m\n",
      "\u001b[0;32m~/opt/anaconda3/envs/tfenv/lib/python3.6/site-packages/tensorflow_probability/python/internal/lazy_loader.py\u001b[0m in \u001b[0;36m_load\u001b[0;34m(self)\u001b[0m\n\u001b[1;32m     35\u001b[0m     \u001b[0;34m\"\"\"Load the module and insert it into the parent's globals.\"\"\"\u001b[0m\u001b[0;34m\u001b[0m\u001b[0;34m\u001b[0m\u001b[0m\n\u001b[1;32m     36\u001b[0m     \u001b[0;32mif\u001b[0m \u001b[0mcallable\u001b[0m\u001b[0;34m(\u001b[0m\u001b[0mself\u001b[0m\u001b[0;34m.\u001b[0m\u001b[0m_on_first_access\u001b[0m\u001b[0;34m)\u001b[0m\u001b[0;34m:\u001b[0m\u001b[0;34m\u001b[0m\u001b[0;34m\u001b[0m\u001b[0m\n\u001b[0;32m---> 37\u001b[0;31m       \u001b[0mself\u001b[0m\u001b[0;34m.\u001b[0m\u001b[0m_on_first_access\u001b[0m\u001b[0;34m(\u001b[0m\u001b[0;34m)\u001b[0m\u001b[0;34m\u001b[0m\u001b[0;34m\u001b[0m\u001b[0m\n\u001b[0m\u001b[1;32m     38\u001b[0m       \u001b[0mself\u001b[0m\u001b[0;34m.\u001b[0m\u001b[0m_on_first_access\u001b[0m \u001b[0;34m=\u001b[0m \u001b[0;32mNone\u001b[0m\u001b[0;34m\u001b[0m\u001b[0;34m\u001b[0m\u001b[0m\n\u001b[1;32m     39\u001b[0m     \u001b[0;31m# Import the target module and insert it into the parent's namespace\u001b[0m\u001b[0;34m\u001b[0m\u001b[0;34m\u001b[0m\u001b[0;34m\u001b[0m\u001b[0m\n",
      "\u001b[0;32m~/opt/anaconda3/envs/tfenv/lib/python3.6/site-packages/tensorflow_probability/python/__init__.py\u001b[0m in \u001b[0;36m_validate_tf_environment\u001b[0;34m(package)\u001b[0m\n\u001b[1;32m     36\u001b[0m   \"\"\"\n\u001b[1;32m     37\u001b[0m   \u001b[0;32mtry\u001b[0m\u001b[0;34m:\u001b[0m\u001b[0;34m\u001b[0m\u001b[0;34m\u001b[0m\u001b[0m\n\u001b[0;32m---> 38\u001b[0;31m     \u001b[0;32mimport\u001b[0m \u001b[0mtensorflow\u001b[0m\u001b[0;34m.\u001b[0m\u001b[0mcompat\u001b[0m\u001b[0;34m.\u001b[0m\u001b[0mv1\u001b[0m \u001b[0;32mas\u001b[0m \u001b[0mtf\u001b[0m\u001b[0;34m\u001b[0m\u001b[0;34m\u001b[0m\u001b[0m\n\u001b[0m\u001b[1;32m     39\u001b[0m   \u001b[0;32mexcept\u001b[0m \u001b[0;34m(\u001b[0m\u001b[0mImportError\u001b[0m\u001b[0;34m,\u001b[0m \u001b[0mModuleNotFoundError\u001b[0m\u001b[0;34m)\u001b[0m\u001b[0;34m:\u001b[0m\u001b[0;34m\u001b[0m\u001b[0;34m\u001b[0m\u001b[0m\n\u001b[1;32m     40\u001b[0m     \u001b[0;31m# Print more informative error message, then reraise.\u001b[0m\u001b[0;34m\u001b[0m\u001b[0;34m\u001b[0m\u001b[0;34m\u001b[0m\u001b[0m\n",
      "\u001b[0;31mModuleNotFoundError\u001b[0m: No module named 'tensorflow.compat'"
     ]
    }
   ],
   "source": [
    "############# GP regression \n",
    "#(Note that I take away 3 variables\n",
    "# because my other supervisors think they are irrelevant)\n",
    "import gpflow\n",
    "from gpflow.utilities import positive, print_summary\n",
    "# Configure GP regression\n",
    "k0 = gpflow.kernels.RBF(active_dims=[0])\n",
    "k1 = gpflow.kernels.RBF(active_dims=[1])\n",
    "k2 = gpflow.kernels.RBF(active_dims=[2])\n",
    "k3 = gpflow.kernels.RBF(active_dims=[3])\n",
    "k4 = gpflow.kernels.RBF(active_dims=[4])\n",
    "k5 = gpflow.kernels.RBF(active_dims=[5])\n",
    "k6 = gpflow.kernels.RBF(active_dims=[6])\n",
    "k7 = gpflow.kernels.RBF(active_dims=[7])\n",
    "k8 = gpflow.kernels.RBF(active_dims=[8])\n",
    "k9 = gpflow.kernels.RBF(active_dims=[9])\n",
    "k10 = gpflow.kernels.RBF(active_dims=[10])\n",
    "k11 = gpflow.kernels.RBF(active_dims=[11])\n",
    "#k12 = gpflow.kernels.RBF(active_dims=[12])\n",
    "#k13 = gpflow.kernels.RBF(active_dims=[13])\n",
    "#k14 = gpflow.kernels.RBF(active_dims=[14])\n",
    "\n",
    "X_train_gp = X_train.to_numpy()\n",
    "#y_train_gp = y_train.to_numpy().reshape(-1,1)\n",
    "y_train_gp = np.array(y_train).reshape(-1,1)\n",
    "#k = k0+k1+k2+k3+k4+k5+k6+k7+k8+k9+k10+k11+k12+k13+k14\n",
    "k = k0+k1+k2+k3+k4+k5+k6+k7+k8+k9+k10+k11\n",
    "\n",
    "m = gpflow.models.GPR((X_train_gp, y_train_gp), kernel=k)\n",
    "\n",
    "opt = gpflow.optimizers.Scipy()\n",
    "opt.minimize(m.training_loss, variables=m.trainable_variables)\n",
    "\n",
    "mean,var = m.predict_y(X_test.to_numpy())\n",
    "plt.plot(y_test.to_numpy().reshape(-1,1), \"kx\", mew = 2)\n",
    "plt.plot(mean, \"rx\", mew = 2)\n",
    "\n",
    "# mae\n",
    "mae_gp = np.sum(np.abs(mean-y_test.to_numpy().reshape(-1,1)))/y_test.to_numpy().shape[0]\n",
    "print('MAE:')\n",
    "print(mae_gp)\n",
    "# mse\n",
    "print('MSE:')\n",
    "mse_gp = np.sum((mean-y_test.to_numpy().reshape(-1,1))**2)/y_test.to_numpy().shape[0]\n",
    "print(mse_gp)\n",
    "# r2\n",
    "#print(R_squared(y_test.to_numpy().reshape(-1,1), mean))"
   ]
  },
  {
   "cell_type": "code",
   "execution_count": 13,
   "id": "ce14db5c",
   "metadata": {},
   "outputs": [
    {
     "ename": "AttributeError",
     "evalue": "module 'tensorflow' has no attribute 'random'",
     "output_type": "error",
     "traceback": [
      "\u001b[0;31m---------------------------------------------------------------------------\u001b[0m",
      "\u001b[0;31mAttributeError\u001b[0m                            Traceback (most recent call last)",
      "\u001b[0;32m<ipython-input-13-03d3ce9a4b0f>\u001b[0m in \u001b[0;36m<module>\u001b[0;34m\u001b[0m\n\u001b[1;32m     13\u001b[0m                 result =my_nn(lr_set[i], neuron_num_set[j], l1_set[p], l2_set[q], \n\u001b[1;32m     14\u001b[0m                       \u001b[0mverbose\u001b[0m \u001b[0;34m=\u001b[0m\u001b[0;36m0\u001b[0m\u001b[0;34m,\u001b[0m\u001b[0;34m\u001b[0m\u001b[0;34m\u001b[0m\u001b[0m\n\u001b[0;32m---> 15\u001b[0;31m                       epoch = 800)\n\u001b[0m\u001b[1;32m     16\u001b[0m                 \u001b[0mnew_mse\u001b[0m \u001b[0;34m=\u001b[0m \u001b[0mresult\u001b[0m\u001b[0;34m[\u001b[0m\u001b[0;34m'test_mse'\u001b[0m\u001b[0;34m]\u001b[0m\u001b[0;34m\u001b[0m\u001b[0;34m\u001b[0m\u001b[0m\n\u001b[1;32m     17\u001b[0m                 \u001b[0mbest_mse\u001b[0m \u001b[0;34m=\u001b[0m \u001b[0mmin\u001b[0m\u001b[0;34m(\u001b[0m\u001b[0mnew_mse\u001b[0m\u001b[0;34m,\u001b[0m\u001b[0mbest_mse\u001b[0m\u001b[0;34m)\u001b[0m\u001b[0;34m\u001b[0m\u001b[0;34m\u001b[0m\u001b[0m\n",
      "\u001b[0;32m<ipython-input-12-21e1712893c4>\u001b[0m in \u001b[0;36mmy_nn\u001b[0;34m(lr, neuron_num, l1, l2, verbose, epoch)\u001b[0m\n\u001b[1;32m      8\u001b[0m     \u001b[0;32mreturn\u001b[0m \u001b[0mr_num\u001b[0m \u001b[0;34m/\u001b[0m \u001b[0mr_den\u001b[0m\u001b[0;34m\u001b[0m\u001b[0;34m\u001b[0m\u001b[0m\n\u001b[1;32m      9\u001b[0m \u001b[0;32mdef\u001b[0m \u001b[0mmy_nn\u001b[0m\u001b[0;34m(\u001b[0m\u001b[0mlr\u001b[0m\u001b[0;34m,\u001b[0m \u001b[0mneuron_num\u001b[0m\u001b[0;34m,\u001b[0m \u001b[0ml1\u001b[0m\u001b[0;34m,\u001b[0m \u001b[0ml2\u001b[0m\u001b[0;34m,\u001b[0m \u001b[0mverbose\u001b[0m\u001b[0;34m,\u001b[0m \u001b[0mepoch\u001b[0m\u001b[0;34m)\u001b[0m\u001b[0;34m:\u001b[0m\u001b[0;34m\u001b[0m\u001b[0;34m\u001b[0m\u001b[0m\n\u001b[0;32m---> 10\u001b[0;31m     \u001b[0mtf\u001b[0m\u001b[0;34m.\u001b[0m\u001b[0mrandom\u001b[0m\u001b[0;34m.\u001b[0m\u001b[0mset_seed\u001b[0m\u001b[0;34m(\u001b[0m\u001b[0;36m42\u001b[0m\u001b[0;34m)\u001b[0m\u001b[0;34m\u001b[0m\u001b[0;34m\u001b[0m\u001b[0m\n\u001b[0m\u001b[1;32m     11\u001b[0m     model_4 = tf.keras.Sequential([\n\u001b[1;32m     12\u001b[0m     \u001b[0mtf\u001b[0m\u001b[0;34m.\u001b[0m\u001b[0mkeras\u001b[0m\u001b[0;34m.\u001b[0m\u001b[0mlayers\u001b[0m\u001b[0;34m.\u001b[0m\u001b[0mDense\u001b[0m\u001b[0;34m(\u001b[0m\u001b[0;36m10\u001b[0m\u001b[0;34m)\u001b[0m\u001b[0;34m,\u001b[0m\u001b[0;34m\u001b[0m\u001b[0;34m\u001b[0m\u001b[0m\n",
      "\u001b[0;31mAttributeError\u001b[0m: module 'tensorflow' has no attribute 'random'"
     ]
    }
   ],
   "source": [
    "########## Neural network training\n",
    "#  Iterate over all hyperparameter settings\n",
    "lr_set = [0.001, 0.005, 0.01, 0.05, 0.1]\n",
    "neuron_num_set = [5, 15, 50, 100]\n",
    "l1_set = [0.001, 0.01, 0.1]\n",
    "l2_set = [0.001, 0.01, 0.1]\n",
    "best_mse = 99\n",
    "best_hp = []\n",
    "for i in range(5):\n",
    "    for j in range(4):\n",
    "        for p in range(3):\n",
    "            for q in range(3):\n",
    "                result =my_nn(lr_set[i], neuron_num_set[j], l1_set[p], l2_set[q], \n",
    "                      verbose =0,\n",
    "                      epoch = 800)\n",
    "                new_mse = result['test_mse']\n",
    "                best_mse = min(new_mse,best_mse)\n",
    "                if best_mse == new_mse:\n",
    "                    best_hp = result['hp']"
   ]
  },
  {
   "cell_type": "code",
   "execution_count": null,
   "id": "b26f7144",
   "metadata": {},
   "outputs": [],
   "source": []
  }
 ],
 "metadata": {
  "kernelspec": {
   "display_name": "Python 3",
   "language": "python",
   "name": "python3"
  },
  "language_info": {
   "codemirror_mode": {
    "name": "ipython",
    "version": 3
   },
   "file_extension": ".py",
   "mimetype": "text/x-python",
   "name": "python",
   "nbconvert_exporter": "python",
   "pygments_lexer": "ipython3",
   "version": "3.6.13"
  }
 },
 "nbformat": 4,
 "nbformat_minor": 5
}
